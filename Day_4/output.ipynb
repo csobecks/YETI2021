{
 "cells": [
  {
   "cell_type": "code",
   "execution_count": 15,
   "metadata": {},
   "outputs": [],
   "source": [
    "using .Threads\n",
    "include(\"../Day_4/code.jl\");"
   ]
  },
  {
   "cell_type": "code",
   "execution_count": 2,
   "metadata": {},
   "outputs": [],
   "source": [
    "code=read(\"SecretCode.txt\",String);"
   ]
  },
  {
   "cell_type": "code",
   "execution_count": 3,
   "metadata": {},
   "outputs": [
    {
     "data": {
      "text/plain": [
       "33120000"
      ]
     },
     "execution_count": 3,
     "metadata": {},
     "output_type": "execute_result"
    }
   ],
   "source": [
    "length(code)"
   ]
  },
  {
   "cell_type": "code",
   "execution_count": 20,
   "metadata": {},
   "outputs": [
    {
     "name": "stdout",
     "output_type": "stream",
     "text": [
      "919eb68e9bb4\n",
      "7lrm74swh79o"
     ]
    }
   ],
   "source": [
    "# g=encrypt(\"8t00r505vraw\")\n",
    "l=decryption(\"8t00r505vraw\")\n",
    "print(g,\"\\n\",l)"
   ]
  },
  {
   "cell_type": "code",
   "execution_count": 17,
   "metadata": {},
   "outputs": [],
   "source": [
    "g=decryption(code);"
   ]
  },
  {
   "cell_type": "code",
   "execution_count": 18,
   "metadata": {},
   "outputs": [
    {
     "data": {
      "text/plain": [
       "33120000"
      ]
     },
     "execution_count": 18,
     "metadata": {},
     "output_type": "execute_result"
    }
   ],
   "source": [
    "open(\"decryptedcode.txt\",\"w\") do io\n",
    "    write(io,g)\n",
    "end"
   ]
  }
 ],
 "metadata": {
  "interpreter": {
   "hash": "4030b0967aecb4400641b2c49790bb267daf81d4fcef76ab879b881aa026f1b9"
  },
  "kernelspec": {
   "display_name": "Julia 8 Threads 1.7.0",
   "language": "julia",
   "name": "julia-8-threads-1.7"
  },
  "language_info": {
   "file_extension": ".jl",
   "mimetype": "application/julia",
   "name": "julia",
   "version": "1.7.0"
  },
  "orig_nbformat": 4
 },
 "nbformat": 4,
 "nbformat_minor": 2
}
