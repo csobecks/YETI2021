{
 "cells": [
  {
   "cell_type": "code",
   "execution_count": 21,
   "metadata": {},
   "outputs": [],
   "source": [
    "import csv\n",
    "import numpy as np\n",
    "import matplotlib.pyplot as plt\n",
    "file = open(\"FourVectorTest.csv\", 'r')\n",
    "csvreader = csv.reader(file)\n",
    "rows = []\n",
    "for row in csvreader:\n",
    "    rows.append(row)\n",
    "file.close()\n",
    "rows=list(np.float_(rows))"
   ]
  },
  {
   "cell_type": "code",
   "execution_count": 42,
   "metadata": {},
   "outputs": [],
   "source": [
    "theta=np.zeros((np.shape(rows)[0],))\n",
    "phi=np.zeros((np.shape(rows)[0],))\n",
    "for i in range(0,np.shape(rows)[0]):\n",
    "    #theta term\n",
    "    theta[i]=np.arctan(np.abs(np.sqrt(rows[i][0]**2 + rows[i][1]**2)/rows[i][2]))\n",
    "    #phi term\n",
    "    if rows[i][0]>0:\n",
    "        phi[i]=np.arctan(rows[i][1]/rows[i][0])\n",
    "    if rows[i][0]<0:\n",
    "        phi[i]=np.arctan(rows[i][1]/rows[i][0])+np.pi\n",
    "    else:\n",
    "        phi[i]=np.pi/2"
   ]
  },
  {
   "cell_type": "code",
   "execution_count": 43,
   "metadata": {},
   "outputs": [
    {
     "data": {
      "text/plain": [
       "array([0.64063086, 0.01807903, 0.99434202, ..., 0.48815782, 0.75068204,\n",
       "       0.27189971])"
      ]
     },
     "execution_count": 43,
     "metadata": {},
     "output_type": "execute_result"
    }
   ],
   "source": [
    "theta"
   ]
  },
  {
   "cell_type": "code",
   "execution_count": 44,
   "metadata": {},
   "outputs": [],
   "source": [
    "η=np.zeros(np.shape(rows)[0],)\n",
    "for i in range(0,np.shape(rows)[0]):\n",
    "    η[i]=-np.log(np.tan(theta[i]/2))"
   ]
  },
  {
   "cell_type": "code",
   "execution_count": 48,
   "metadata": {},
   "outputs": [
    {
     "data": {
      "text/plain": [
       "100000"
      ]
     },
     "execution_count": 48,
     "metadata": {},
     "output_type": "execute_result"
    }
   ],
   "source": [
    "np.size(phi)"
   ]
  },
  {
   "cell_type": "code",
   "execution_count": 52,
   "metadata": {},
   "outputs": [
    {
     "data": {
      "image/png": "[encoded data removed]",
      "text/plain": [
       "<Figure size 576x576 with 1 Axes>"
      ]
     },
     "metadata": {
      "needs_background": "light"
     },
     "output_type": "display_data"
    }
   ],
   "source": [
    "plt.figure(figsize=(8,8))\n",
    "plt.hist2d(phi, η, cmap=plt.cm.jet, bins=(60,60));"
   ]
  },
  {
   "cell_type": "code",
   "execution_count": null,
   "metadata": {},
   "outputs": [],
   "source": []
  }
 ],
 "metadata": {
  "interpreter": {
   "hash": "4030b0967aecb4400641b2c49790bb267daf81d4fcef76ab879b881aa026f1b9"
  },
  "kernelspec": {
   "display_name": "Julia 1.7.0",
   "language": "python",
   "name": "python3"
  },
  "language_info": {
   "codemirror_mode": {
    "name": "ipython",
    "version": 3
   },
   "file_extension": ".py",
   "mimetype": "text/x-python",
   "name": "python",
   "nbconvert_exporter": "python",
   "pygments_lexer": "ipython3",
   "version": "3.10.1"
  },
  "orig_nbformat": 4
 },
 "nbformat": 4,
 "nbformat_minor": 2
}
